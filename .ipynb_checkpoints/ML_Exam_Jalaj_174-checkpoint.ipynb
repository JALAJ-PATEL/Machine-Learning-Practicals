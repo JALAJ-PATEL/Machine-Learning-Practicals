{
 "cells": [
  {
   "cell_type": "markdown",
   "id": "e578aa5d-68be-4bc7-a42f-3214045cd57e",
   "metadata": {},
   "source": [
    "# 1. Load Libraries"
   ]
  },
  {
   "cell_type": "code",
   "execution_count": 1,
   "id": "6a6e23c7-25e4-48ea-8682-2b3da8a65786",
   "metadata": {},
   "outputs": [],
   "source": [
    "import pandas as pd\n",
    "import numpy as np\n",
    "from sklearn.preprocessing import OneHotEncoder, StandardScaler\n",
    "from sklearn.model_selection import train_test_split\n",
    "from sklearn.linear_model import LinearRegression, Ridge, Lasso\n",
    "from sklearn.ensemble import RandomForestRegressor, GradientBoostingRegressor\n",
    "from sklearn.metrics import mean_squared_error, mean_absolute_error, r2_score\n"
   ]
  },
  {
   "cell_type": "markdown",
   "id": "2621acfa-96eb-402e-b1bf-2ba457538208",
   "metadata": {},
   "source": [
    "# 2. Load and Explore the Data"
   ]
  },
  {
   "cell_type": "code",
   "execution_count": 2,
   "id": "a9624bb1-19d6-41f5-b940-40f7f4f79b04",
   "metadata": {},
   "outputs": [
    {
     "name": "stdout",
     "output_type": "stream",
     "text": [
      "      MODELYEAR   MAKE       MODEL    VEHICLECLASS  ENGINESIZE  CYLINDERS  \\\n",
      "0          2014  ACURA         ILX         COMPACT         2.0          4   \n",
      "1          2014  ACURA         ILX         COMPACT         2.4          4   \n",
      "2          2014  ACURA  ILX HYBRID         COMPACT         1.5          4   \n",
      "3          2014  ACURA     MDX 4WD     SUV - SMALL         3.5          6   \n",
      "4          2014  ACURA     RDX AWD     SUV - SMALL         3.5          6   \n",
      "...         ...    ...         ...             ...         ...        ...   \n",
      "1062       2014  VOLVO    XC60 AWD     SUV - SMALL         3.0          6   \n",
      "1063       2014  VOLVO    XC60 AWD     SUV - SMALL         3.2          6   \n",
      "1064       2014  VOLVO    XC70 AWD     SUV - SMALL         3.0          6   \n",
      "1065       2014  VOLVO    XC70 AWD     SUV - SMALL         3.2          6   \n",
      "1066       2014  VOLVO    XC90 AWD  SUV - STANDARD         3.2          6   \n",
      "\n",
      "     TRANSMISSION FUELTYPE  FUELCONSUMPTION_CITY  FUELCONSUMPTION_HWY  \\\n",
      "0             AS5        Z                   9.9                  6.7   \n",
      "1              M6        Z                  11.2                  7.7   \n",
      "2             AV7        Z                   6.0                  5.8   \n",
      "3             AS6        Z                  12.7                  9.1   \n",
      "4             AS6        Z                  12.1                  8.7   \n",
      "...           ...      ...                   ...                  ...   \n",
      "1062          AS6        X                  13.4                  9.8   \n",
      "1063          AS6        X                  13.2                  9.5   \n",
      "1064          AS6        X                  13.4                  9.8   \n",
      "1065          AS6        X                  12.9                  9.3   \n",
      "1066          AS6        X                  14.9                 10.2   \n",
      "\n",
      "      FUELCONSUMPTION_COMB  FUELCONSUMPTION_COMB_MPG  CO2EMISSIONS  \n",
      "0                      8.5                        33           196  \n",
      "1                      9.6                        29           221  \n",
      "2                      5.9                        48           136  \n",
      "3                     11.1                        25           255  \n",
      "4                     10.6                        27           244  \n",
      "...                    ...                       ...           ...  \n",
      "1062                  11.8                        24           271  \n",
      "1063                  11.5                        25           264  \n",
      "1064                  11.8                        24           271  \n",
      "1065                  11.3                        25           260  \n",
      "1066                  12.8                        22           294  \n",
      "\n",
      "[1067 rows x 13 columns]\n",
      "Missing Values:\n",
      " MODELYEAR                   0\n",
      "MAKE                        0\n",
      "MODEL                       0\n",
      "VEHICLECLASS                0\n",
      "ENGINESIZE                  0\n",
      "CYLINDERS                   0\n",
      "TRANSMISSION                0\n",
      "FUELTYPE                    0\n",
      "FUELCONSUMPTION_CITY        0\n",
      "FUELCONSUMPTION_HWY         0\n",
      "FUELCONSUMPTION_COMB        0\n",
      "FUELCONSUMPTION_COMB_MPG    0\n",
      "CO2EMISSIONS                0\n",
      "dtype: int64 \n",
      "\n",
      "Data Types:\n",
      " MODELYEAR                     int64\n",
      "MAKE                         object\n",
      "MODEL                        object\n",
      "VEHICLECLASS                 object\n",
      "ENGINESIZE                  float64\n",
      "CYLINDERS                     int64\n",
      "TRANSMISSION                 object\n",
      "FUELTYPE                     object\n",
      "FUELCONSUMPTION_CITY        float64\n",
      "FUELCONSUMPTION_HWY         float64\n",
      "FUELCONSUMPTION_COMB        float64\n",
      "FUELCONSUMPTION_COMB_MPG      int64\n",
      "CO2EMISSIONS                  int64\n",
      "dtype: object \n",
      "\n",
      "Summary of Numerical Columns:\n",
      "        MODELYEAR   ENGINESIZE    CYLINDERS  FUELCONSUMPTION_CITY  \\\n",
      "count     1067.0  1067.000000  1067.000000           1067.000000   \n",
      "mean      2014.0     3.346298     5.794752             13.296532   \n",
      "std          0.0     1.415895     1.797447              4.101253   \n",
      "min       2014.0     1.000000     3.000000              4.600000   \n",
      "25%       2014.0     2.000000     4.000000             10.250000   \n",
      "50%       2014.0     3.400000     6.000000             12.600000   \n",
      "75%       2014.0     4.300000     8.000000             15.550000   \n",
      "max       2014.0     8.400000    12.000000             30.200000   \n",
      "\n",
      "       FUELCONSUMPTION_HWY  FUELCONSUMPTION_COMB  FUELCONSUMPTION_COMB_MPG  \\\n",
      "count          1067.000000           1067.000000               1067.000000   \n",
      "mean              9.474602             11.580881                 26.441425   \n",
      "std               2.794510              3.485595                  7.468702   \n",
      "min               4.900000              4.700000                 11.000000   \n",
      "25%               7.500000              9.000000                 21.000000   \n",
      "50%               8.800000             10.900000                 26.000000   \n",
      "75%              10.850000             13.350000                 31.000000   \n",
      "max              20.500000             25.800000                 60.000000   \n",
      "\n",
      "       CO2EMISSIONS  \n",
      "count   1067.000000  \n",
      "mean     256.228679  \n",
      "std       63.372304  \n",
      "min      108.000000  \n",
      "25%      207.000000  \n",
      "50%      251.000000  \n",
      "75%      294.000000  \n",
      "max      488.000000   \n",
      "\n",
      "Summary of Categorical Columns:\n",
      "         MAKE     MODEL VEHICLECLASS TRANSMISSION FUELTYPE\n",
      "count   1067      1067         1067         1067     1067\n",
      "unique    39       663           16           22        4\n",
      "top     FORD  F150 FFV     MID-SIZE           A6        X\n",
      "freq      90         8          178          222      514 \n",
      "\n",
      "Unique Values in Categorical Columns:\n",
      "\n",
      "MAKE: 39 unique values\n",
      "MODEL: 663 unique values\n",
      "VEHICLECLASS: 16 unique values\n",
      "TRANSMISSION: 22 unique values\n",
      "FUELTYPE: 4 unique values\n",
      "\n",
      "Number of Duplicate Rows: 0\n"
     ]
    }
   ],
   "source": [
    "# Load the CSV file\n",
    "file_path = \"4.csv\"  # Replace with the correct path to your CSV file\n",
    "data = pd.read_csv(file_path)\n",
    "\n",
    "# Print the data\n",
    "print(data)\n",
    "\n",
    "# Check for missing values\n",
    "print(\"Missing Values:\\n\", data.isnull().sum(), \"\\n\")\n",
    "\n",
    "# Check data types of columns\n",
    "print(\"Data Types:\\n\", data.dtypes, \"\\n\")\n",
    "\n",
    "# Get a summary of numerical columns\n",
    "print(\"Summary of Numerical Columns:\\n\", data.describe(), \"\\n\")\n",
    "\n",
    "# Get a summary of object (categorical) columns\n",
    "print(\"Summary of Categorical Columns:\\n\", data.describe(include=['object']), \"\\n\")\n",
    "\n",
    "# Count unique values in categorical columns\n",
    "print(\"Unique Values in Categorical Columns:\\n\")\n",
    "for col in data.select_dtypes(include=['object']).columns:\n",
    "    print(f\"{col}: {data[col].nunique()} unique values\")\n",
    "\n",
    "# Check for duplicates\n",
    "duplicates = data.duplicated().sum()\n",
    "print(f\"\\nNumber of Duplicate Rows: {duplicates}\")\n"
   ]
  },
  {
   "cell_type": "markdown",
   "id": "836bf3ab-4a5a-437d-87dc-5d616f85e18f",
   "metadata": {},
   "source": [
    "# 3. Handle Outliers"
   ]
  },
  {
   "cell_type": "code",
   "execution_count": 3,
   "id": "0efd16ed-650b-4d34-8e3c-fc9ee1911bc7",
   "metadata": {},
   "outputs": [],
   "source": [
    "# Detect and cap outliers using IQR\n",
    "def cap_outliers(df, column):\n",
    "    Q1 = df[column].quantile(0.25)\n",
    "    Q3 = df[column].quantile(0.75)\n",
    "    IQR = Q3 - Q1\n",
    "    lower_bound = Q1 - 1.5 * IQR\n",
    "    upper_bound = Q3 + 1.5 * IQR\n",
    "    df[column] = np.where(df[column] < lower_bound, lower_bound, df[column])\n",
    "    df[column] = np.where(df[column] > upper_bound, upper_bound, df[column])\n",
    "\n",
    "# Columns with outliers\n",
    "columns_with_outliers = ['ENGINESIZE', 'FUELCONSUMPTION_CITY', 'FUELCONSUMPTION_HWY',\n",
    "                         'FUELCONSUMPTION_COMB', 'FUELCONSUMPTION_COMB_MPG', 'CO2EMISSIONS']\n",
    "\n",
    "for col in columns_with_outliers:\n",
    "    cap_outliers(data, col)\n"
   ]
  },
  {
   "cell_type": "markdown",
   "id": "f6e42fc3-17a4-4a07-914f-d334bd61aebe",
   "metadata": {},
   "source": [
    "# 4. Feature Engineering"
   ]
  },
  {
   "cell_type": "markdown",
   "id": "b377ad5f-722c-414a-9a08-6264176188d6",
   "metadata": {},
   "source": [
    "### a. Encode Categorical Features"
   ]
  },
  {
   "cell_type": "code",
   "execution_count": 4,
   "id": "0713e468-9ce8-40f5-9c85-0be7bf28cf37",
   "metadata": {},
   "outputs": [],
   "source": [
    "# One-hot encode relevant categorical features\n",
    "categorical_features = ['MAKE', 'VEHICLECLASS', 'TRANSMISSION', 'FUELTYPE']\n",
    "data_encoded = pd.get_dummies(data, columns=categorical_features, drop_first=True)\n"
   ]
  },
  {
   "cell_type": "markdown",
   "id": "18ebfa3e-d4ce-41e8-b426-8091122f99c7",
   "metadata": {},
   "source": [
    "### b. Drop High Cardinality/Uninformative Columns"
   ]
  },
  {
   "cell_type": "code",
   "execution_count": 5,
   "id": "11898e20-e03c-456e-aa1b-8dd0568e7f71",
   "metadata": {},
   "outputs": [],
   "source": [
    "# Drop 'MODEL' and 'MODELYEAR' as they are high cardinality or constant\n",
    "data_encoded.drop(['MODEL', 'MODELYEAR'], axis=1, inplace=True)\n"
   ]
  },
  {
   "cell_type": "markdown",
   "id": "db182298-f514-493b-9b74-dc9e3e8a8c65",
   "metadata": {},
   "source": [
    "### c. Scale Numerical Features\n"
   ]
  },
  {
   "cell_type": "code",
   "execution_count": 6,
   "id": "50a5ed9c-c12a-41b1-9c70-417b58940e24",
   "metadata": {},
   "outputs": [],
   "source": [
    "# Scale numerical features\n",
    "numerical_features = ['ENGINESIZE', 'CYLINDERS', 'FUELCONSUMPTION_CITY', \n",
    "                      'FUELCONSUMPTION_HWY', 'FUELCONSUMPTION_COMB', 'FUELCONSUMPTION_COMB_MPG']\n",
    "\n",
    "scaler = StandardScaler()\n",
    "data_encoded[numerical_features] = scaler.fit_transform(data_encoded[numerical_features])\n"
   ]
  },
  {
   "cell_type": "markdown",
   "id": "834968e3-ce7d-4311-b8c0-9203023bb94e",
   "metadata": {},
   "source": [
    "### d. Handle Skewness in Target Variable"
   ]
  },
  {
   "cell_type": "code",
   "execution_count": 7,
   "id": "77289fb5-58ba-4ae1-a2be-8fec5e20d0ea",
   "metadata": {},
   "outputs": [],
   "source": [
    "# Check for skewness and apply log transformation if needed\n",
    "if data_encoded['CO2EMISSIONS'].skew() > 1:\n",
    "    data_encoded['CO2EMISSIONS'] = np.log1p(data_encoded['CO2EMISSIONS'])\n"
   ]
  },
  {
   "cell_type": "markdown",
   "id": "825cda47-4ba1-4d21-9942-587301c68b1c",
   "metadata": {},
   "source": [
    "# 5. Train-Test Split"
   ]
  },
  {
   "cell_type": "code",
   "execution_count": 8,
   "id": "40867a71-11d1-4057-b1c4-86483fcbf887",
   "metadata": {},
   "outputs": [
    {
     "name": "stdout",
     "output_type": "stream",
     "text": [
      "Training set shape: (853, 83)\n",
      "Test set shape: (214, 83)\n"
     ]
    }
   ],
   "source": [
    "# Split data into features and target\n",
    "X = data_encoded.drop('CO2EMISSIONS', axis=1)\n",
    "y = data_encoded['CO2EMISSIONS']\n",
    "\n",
    "# Split into training and testing sets\n",
    "X_train, X_test, y_train, y_test = train_test_split(X, y, test_size=0.2, random_state=42)\n",
    "\n",
    "print(f\"Training set shape: {X_train.shape}\")\n",
    "print(f\"Test set shape: {X_test.shape}\")\n"
   ]
  },
  {
   "cell_type": "markdown",
   "id": "b5a2de13-550e-4276-918d-dd732e831649",
   "metadata": {},
   "source": [
    "# 6. Model Training and Evaluation\n",
    "### a. Define Model Evaluation Function"
   ]
  },
  {
   "cell_type": "code",
   "execution_count": 9,
   "id": "e71a734f-5b37-4b46-b0a4-88a00d3a84cd",
   "metadata": {},
   "outputs": [],
   "source": [
    "# Function to train and evaluate models\n",
    "def evaluate_model(model, X_train, y_train, X_test, y_test):\n",
    "    # Train the model\n",
    "    model.fit(X_train, y_train)\n",
    "    # Predict on training and testing sets\n",
    "    y_train_pred = model.predict(X_train)\n",
    "    y_test_pred = model.predict(X_test)\n",
    "    \n",
    "    # Calculate metrics\n",
    "    metrics = {\n",
    "        'Model': type(model).__name__,\n",
    "        'Train R²': r2_score(y_train, y_train_pred),\n",
    "        'Test R²': r2_score(y_test, y_test_pred),\n",
    "        'Train MSE': mean_squared_error(y_train, y_train_pred),\n",
    "        'Test MSE': mean_squared_error(y_test, y_test_pred),\n",
    "        'Train MAE': mean_absolute_error(y_train, y_train_pred),\n",
    "        'Test MAE': mean_absolute_error(y_test, y_test_pred),\n",
    "    }\n",
    "    \n",
    "    return metrics\n"
   ]
  },
  {
   "cell_type": "markdown",
   "id": "1f48bf9a-3298-48cd-baac-e34a83c98551",
   "metadata": {},
   "source": [
    "### b. Train Models and Collect Results"
   ]
  },
  {
   "cell_type": "code",
   "execution_count": 10,
   "id": "be93cc2b-c079-4229-a22a-1ceecb9ede9b",
   "metadata": {},
   "outputs": [
    {
     "name": "stdout",
     "output_type": "stream",
     "text": [
      "                       Model  Train R²   Test R²  Train MSE   Test MSE  \\\n",
      "4  GradientBoostingRegressor  0.997598  0.995506   9.444736  18.502193   \n",
      "0           LinearRegression  0.993613  0.994235  25.110448  23.739139   \n",
      "2                      Lasso  0.993241  0.994060  26.572738  24.459644   \n",
      "1                      Ridge  0.992621  0.993622  29.009580  26.263313   \n",
      "3      RandomForestRegressor  0.998759  0.989975   4.876763  41.279868   \n",
      "\n",
      "   Train MAE  Test MAE  \n",
      "4   1.969064  2.823175  \n",
      "0   2.740565  2.767126  \n",
      "2   2.552233  2.437421  \n",
      "1   3.046807  2.879904  \n",
      "3   0.620320  1.953137  \n"
     ]
    }
   ],
   "source": [
    "# Initialize models\n",
    "models = [\n",
    "    LinearRegression(),\n",
    "    Ridge(alpha=1.0),\n",
    "    Lasso(alpha=0.01),\n",
    "    RandomForestRegressor(n_estimators=100, random_state=42),\n",
    "    GradientBoostingRegressor(n_estimators=100, random_state=42)\n",
    "]\n",
    "\n",
    "# Evaluate each model\n",
    "results = []\n",
    "for model in models:\n",
    "    result = evaluate_model(model, X_train, y_train, X_test, y_test)\n",
    "    results.append(result)\n",
    "\n",
    "# Convert results to DataFrame for better readability\n",
    "results_df = pd.DataFrame(results)\n",
    "results_df.sort_values(by='Test R²', ascending=False, inplace=True)\n",
    "print(results_df)\n"
   ]
  },
  {
   "cell_type": "markdown",
   "id": "236dca3a-1845-4e04-a151-a0f61636c434",
   "metadata": {},
   "source": [
    "# CONCLUSION:"
   ]
  },
  {
   "cell_type": "markdown",
   "id": "271c2800-fcc5-466f-977c-8fdbfd53db9e",
   "metadata": {},
   "source": [
    "## **Model Performance Comparison and Conclusion**\n",
    "\n",
    "The table below summarizes the performance of various regression models based on key evaluation metrics such as R², Mean Squared Error (MSE), and Mean Absolute Error (MAE) for both training and testing datasets.\n",
    "\n",
    "| **Model**                  | **Train R²** | **Test R²** | **Train MSE** | **Test MSE** | **Train MAE** | **Test MAE** |\n",
    "|----------------------------|--------------|-------------|---------------|--------------|---------------|--------------|\n",
    "| GradientBoostingRegressor  | 0.9976       | 0.9955      | 9.4447        | 18.5022      | 1.9691        | 2.8232       |\n",
    "| LinearRegression           | 0.9936       | 0.9942      | 25.1104       | 23.7391      | 2.7406        | 2.7671       |\n",
    "| Lasso                      | 0.9932       | 0.9941      | 26.5727       | 24.4596      | 2.5522        | 2.4374       |\n",
    "| Ridge                      | 0.9926       | 0.9936      | 29.0096       | 26.2633      | 3.0468        | 2.8799       |\n",
    "| RandomForestRegressor      | 0.9988       | 0.9900      | 4.8768        | 41.2799      | 0.6203        | 1.9531       |\n",
    "\n",
    "### **Key Observations:**\n",
    "1. **GradientBoostingRegressor** achieved the best performance overall, with a **Test R² of 0.9955** and the lowest **Test MSE of 18.50**, while maintaining a reasonable **Train MAE of 1.97** and **Test MAE of 2.82**. This model is well-balanced in terms of training and testing performance, indicating minimal overfitting.\n",
    "   \n",
    "2. **LinearRegression** and **Lasso** also performed well, achieving **Test R² values of 0.9942** and **0.9941**, respectively, but had slightly higher **Test MSE** and **MAE** compared to GradientBoostingRegressor.\n",
    "\n",
    "3. **RandomForestRegressor**, despite having the lowest **Train MSE of 4.88** and **Train MAE of 0.62**, underperformed on the test set with a relatively lower **Test R² of 0.9900** and a significantly higher **Test MSE of 41.28**, indicating possible overfitting.\n",
    "\n",
    "4. **Ridge Regression**, while stable, lagged slightly behind the other models in terms of performance metrics.\n",
    "\n",
    "### **Conclusion:**\n",
    "Based on the evaluation metrics, **GradientBoostingRegressor** is the most suitable model for this problem as it provides the best balance between training and testing performance. It is recommended to use this model for predicting **CO2EMISSIONS** in production.\n"
   ]
  },
  {
   "cell_type": "code",
   "execution_count": null,
   "id": "7800378d-91e7-445a-9ce3-b61d1b36d5ce",
   "metadata": {},
   "outputs": [],
   "source": []
  }
 ],
 "metadata": {
  "kernelspec": {
   "display_name": "Python 3 (ipykernel)",
   "language": "python",
   "name": "python3"
  },
  "language_info": {
   "codemirror_mode": {
    "name": "ipython",
    "version": 3
   },
   "file_extension": ".py",
   "mimetype": "text/x-python",
   "name": "python",
   "nbconvert_exporter": "python",
   "pygments_lexer": "ipython3",
   "version": "3.12.3"
  }
 },
 "nbformat": 4,
 "nbformat_minor": 5
}
